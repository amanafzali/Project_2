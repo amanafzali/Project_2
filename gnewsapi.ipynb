{
 "cells": [
  {
   "cell_type": "code",
   "execution_count": 8,
   "metadata": {},
   "outputs": [],
   "source": [
    "# Initial imports to get show started\n",
    "import os\n",
    "from dotenv import load_dotenv\n",
    "import requests\n",
    "import json"
   ]
  },
  {
   "cell_type": "code",
   "execution_count": 9,
   "metadata": {},
   "outputs": [
    {
     "data": {
      "text/plain": [
       "str"
      ]
     },
     "execution_count": 9,
     "metadata": {},
     "output_type": "execute_result"
    }
   ],
   "source": [
    "# Grab the key stored in .env and verify its a valid string\n",
    "load_dotenv()\n",
    "api_key = os.getenv(\"GNEWS_API_KEY\")\n",
    "type(api_key)"
   ]
  },
  {
   "cell_type": "code",
   "execution_count": 14,
   "metadata": {},
   "outputs": [],
   "source": [
    "# The GNews API url\n",
    "news_url = \"https://gnewsapi.net/api/search?\"\n",
    "\n",
    "search_term = \"crypto\"\n",
    "#search_country = \"us OR uk OR hk OR ch\" # cannot combine countries\n",
    "search_country = \"us\"\n",
    "search_language = \"en\"\n",
    "search_start_date = \"2017-01-01\"\n",
    "search_end_date = \"2017-01-02\"\n",
    "\n",
    "# Build complete request url\n",
    "request_url = news_url+\"q=\"+search_term+\"&country=\"+search_country+\"&language=\"+search_language+\"&from=\"+search_start_date+\"&to=\"+search_end_date+\"&api_token=\"+api_key\n",
    "\n",
    "# Execute get request\n",
    "#payload = {}\n",
    "#headers= {}\n",
    "#response = requests.request(\"GET\", request_url, headers = headers, data = payload)\n",
    "#response.content\n",
    "\n",
    "# Execute get request\n",
    "response = requests.get(request_url)\n",
    "#response.content"
   ]
  },
  {
   "cell_type": "code",
   "execution_count": 15,
   "metadata": {},
   "outputs": [
    {
     "name": "stdout",
     "output_type": "stream",
     "text": [
      "{\n",
      "    \"datetime\": \"2021-01-13T02:59:30+00:00\",\n",
      "    \"timestamp\": 1610506770,\n",
      "    \"countArticles\": 4,\n",
      "    \"articles\": [\n",
      "        {\n",
      "            \"article_url\": \"https://www.coindesk.com/bitcoin-price-1000-january-1-2017\",\n",
      "            \"title\": \"Bitcoin Price Tops $1,000 in First Day of 2017 Trading - CoinDesk - CoinDesk\",\n",
      "            \"description\": \"Bitcoin Price Tops $1,000 in First Day of 2017 Trading - CoinDesk  CoinDesk\",\n",
      "            \"description_with_tag\": \"<a href=\\\"https://www.coindesk.com/bitcoin-price-1000-january-1-2017\\\" target=\\\"_blank\\\">Bitcoin Price Tops $1,000 in First Day of 2017 Trading - CoinDesk</a>&nbsp;&nbsp;<font color=\\\"#6f6f6f\\\">CoinDesk</font>\",\n",
      "            \"published_datetime\": \"2017-01-01T08:00:00+00:00\",\n",
      "            \"published_timestamp\": 1483257600,\n",
      "            \"image_url\": \"https://gnewsapi.net/redirect-news-image/68d7d3b472fe29d401ab8dd1acf922c0\",\n",
      "            \"source_name\": \"CoinDesk\",\n",
      "            \"source_url\": \"https://www.coindesk.com\",\n",
      "            \"source_domain\": \"www.coindesk.com\"\n",
      "        },\n",
      "        {\n",
      "            \"article_url\": \"https://finance.yahoo.com/news/blue-crush-cast-looked-peak-190736711.html\",\n",
      "            \"title\": \"The \\u201cBlue Crush\\u201d cast looked PEAK 2000s at the movie premiere - Yahoo Finance\",\n",
      "            \"description\": \"The \\u201cBlue Crush\\u201d cast looked PEAK 2000s at the movie premiere  Yahoo Finance\",\n",
      "            \"description_with_tag\": \"<a href=\\\"https://finance.yahoo.com/news/blue-crush-cast-looked-peak-190736711.html\\\" target=\\\"_blank\\\">The \\u201cBlue Crush\\u201d cast looked PEAK 2000s at the movie premiere</a>&nbsp;&nbsp;<font color=\\\"#6f6f6f\\\">Yahoo Finance</font>\",\n",
      "            \"published_datetime\": \"2017-01-01T08:00:00+00:00\",\n",
      "            \"published_timestamp\": 1483257600,\n",
      "            \"image_url\": \"https://gnewsapi.net/redirect-news-image/e65dbaea3f3a318b403bf280848903fc\",\n",
      "            \"source_name\": \"Yahoo Finance\",\n",
      "            \"source_url\": \"https://finance.yahoo.com\",\n",
      "            \"source_domain\": \"finance.yahoo.com\"\n",
      "        },\n",
      "        {\n",
      "            \"article_url\": \"https://cointelegraph.com/news/podcast-dmitry-buterin-like-father-like-son\",\n",
      "            \"title\": \"Podcast: Dmitry Buterin - Like Father, Like Son - CoinTelegraph\",\n",
      "            \"description\": \"Podcast: Dmitry Buterin - Like Father, Like Son  CoinTelegraph\",\n",
      "            \"description_with_tag\": \"<a href=\\\"https://cointelegraph.com/news/podcast-dmitry-buterin-like-father-like-son\\\" target=\\\"_blank\\\">Podcast: Dmitry Buterin - Like Father, Like Son</a>&nbsp;&nbsp;<font color=\\\"#6f6f6f\\\">CoinTelegraph</font>\",\n",
      "            \"published_datetime\": \"2017-01-01T08:00:00+00:00\",\n",
      "            \"published_timestamp\": 1483257600,\n",
      "            \"image_url\": \"https://gnewsapi.net/redirect-news-image/9bfff6d81a89cba83853176565dfd7e7\",\n",
      "            \"source_name\": \"CoinTelegraph\",\n",
      "            \"source_url\": \"https://cointelegraph.com\",\n",
      "            \"source_domain\": \"cointelegraph.com\"\n",
      "        },\n",
      "        {\n",
      "            \"article_url\": \"https://www.finews.asia/finance/23666-legal-hong-kong-harneys-new-partners\",\n",
      "            \"title\": \"New Asian Partners at Harneys - finews.asia\",\n",
      "            \"description\": \"New Asian Partners at Harneys  finews.asia\",\n",
      "            \"description_with_tag\": \"<a href=\\\"https://www.finews.asia/finance/23666-legal-hong-kong-harneys-new-partners\\\" target=\\\"_blank\\\">New Asian Partners at Harneys</a>&nbsp;&nbsp;<font color=\\\"#6f6f6f\\\">finews.asia</font>\",\n",
      "            \"published_datetime\": \"2017-01-02T08:00:00+00:00\",\n",
      "            \"published_timestamp\": 1483344000,\n",
      "            \"image_url\": \"https://gnewsapi.net/redirect-news-image/e86c177c79ebbb1c87eb6113ce4479f2\",\n",
      "            \"source_name\": \"finews.asia\",\n",
      "            \"source_url\": \"https://www.finews.asia\",\n",
      "            \"source_domain\": \"www.finews.asia\"\n",
      "        }\n",
      "    ]\n",
      "}\n"
     ]
    }
   ],
   "source": [
    "json_response = response.json()\n",
    "print(json.dumps(json_response,indent=4))"
   ]
  },
  {
   "cell_type": "code",
   "execution_count": null,
   "metadata": {},
   "outputs": [],
   "source": []
  }
 ],
 "metadata": {
  "kernelspec": {
   "display_name": "Python 3",
   "language": "python",
   "name": "python3"
  },
  "language_info": {
   "codemirror_mode": {
    "name": "ipython",
    "version": 3
   },
   "file_extension": ".py",
   "mimetype": "text/x-python",
   "name": "python",
   "nbconvert_exporter": "python",
   "pygments_lexer": "ipython3",
   "version": "3.7.9"
  }
 },
 "nbformat": 4,
 "nbformat_minor": 4
}
