{
 "cells": [
  {
   "cell_type": "code",
   "execution_count": 1,
   "metadata": {},
   "outputs": [],
   "source": [
    "# Initial imports to get show started\n",
    "import os\n",
    "from dotenv import load_dotenv\n",
    "import requests"
   ]
  },
  {
   "cell_type": "code",
   "execution_count": 2,
   "metadata": {},
   "outputs": [
    {
     "data": {
      "text/plain": [
       "str"
      ]
     },
     "execution_count": 2,
     "metadata": {},
     "output_type": "execute_result"
    }
   ],
   "source": [
    "# Grab the key stored in .env and verify its a valid string\n",
    "load_dotenv()\n",
    "api_key = os.getenv(\"GNEWS_API_KEY\")\n",
    "type(api_key)"
   ]
  },
  {
   "cell_type": "code",
   "execution_count": 13,
   "metadata": {},
   "outputs": [
    {
     "data": {
      "text/plain": [
       "b'{\"datetime\":\"2021-01-12T04:50:03+00:00\",\"timestamp\":1610427003,\"countArticles\":8,\"articles\":[{\"article_url\":\"https:\\\\/\\\\/www.coindesk.com\\\\/bitcoin-price-1000-january-1-2017\",\"title\":\"Bitcoin Price Tops $1,000 in First Day of 2017 Trading - CoinDesk - CoinDesk\",\"description\":\"Bitcoin Price Tops $1,000 in First Day of 2017 Trading - CoinDesk  CoinDesk\",\"description_with_tag\":\"<a href=\\\\\"https:\\\\/\\\\/www.coindesk.com\\\\/bitcoin-price-1000-january-1-2017\\\\\" target=\\\\\"_blank\\\\\">Bitcoin Price Tops $1,000 in First Day of 2017 Trading - CoinDesk<\\\\/a>&nbsp;&nbsp;<font color=\\\\\"#6f6f6f\\\\\">CoinDesk<\\\\/font>\",\"published_datetime\":\"2017-01-01T08:00:00+00:00\",\"published_timestamp\":1483257600,\"image_url\":\"https:\\\\/\\\\/gnewsapi.net\\\\/redirect-news-image\\\\/68d7d3b472fe29d401ab8dd1acf922c0\",\"source_name\":\"CoinDesk\",\"source_url\":\"https:\\\\/\\\\/www.coindesk.com\",\"source_domain\":\"www.coindesk.com\"},{\"article_url\":\"https:\\\\/\\\\/cointelegraph.com\\\\/press-releases\\\\/remitano-p2p-bitcoin-exchange-is-completely-independent-from-traditional-banking-partners\",\"title\":\"Remitano P2P Bitcoin Exchange is Completely Independent from Traditional Banking Partners - CoinTelegraph\",\"description\":\"Remitano P2P Bitcoin Exchange is Completely Independent from Traditional Banking Partners  CoinTelegraph\",\"description_with_tag\":\"<a href=\\\\\"https:\\\\/\\\\/cointelegraph.com\\\\/press-releases\\\\/remitano-p2p-bitcoin-exchange-is-completely-independent-from-traditional-banking-partners\\\\\" target=\\\\\"_blank\\\\\">Remitano P2P Bitcoin Exchange is Completely Independent from Traditional Banking Partners<\\\\/a>&nbsp;&nbsp;<font color=\\\\\"#6f6f6f\\\\\">CoinTelegraph<\\\\/font>\",\"published_datetime\":\"2017-01-01T08:00:00+00:00\",\"published_timestamp\":1483257600,\"image_url\":\"https:\\\\/\\\\/gnewsapi.net\\\\/redirect-news-image\\\\/d0247831ca06a7a3d1e4b15b7f22868f\",\"source_name\":\"CoinTelegraph\",\"source_url\":\"https:\\\\/\\\\/cointelegraph.com\",\"source_domain\":\"cointelegraph.com\"},{\"article_url\":\"https:\\\\/\\\\/fortune.com\\\\/2017\\\\/01\\\\/01\\\\/french-right-to-disconnect-law\\\\/\",\"title\":\"New French Law Bars Work Email After Hours - Fortune\",\"description\":\"New French Law Bars Work Email After Hours  Fortune\",\"description_with_tag\":\"<a href=\\\\\"https:\\\\/\\\\/fortune.com\\\\/2017\\\\/01\\\\/01\\\\/french-right-to-disconnect-law\\\\/\\\\\" target=\\\\\"_blank\\\\\">New French Law Bars Work Email After Hours<\\\\/a>&nbsp;&nbsp;<font color=\\\\\"#6f6f6f\\\\\">Fortune<\\\\/font>\",\"published_datetime\":\"2017-01-01T08:00:00+00:00\",\"published_timestamp\":1483257600,\"image_url\":\"https:\\\\/\\\\/gnewsapi.net\\\\/redirect-news-image\\\\/5c07145a77bde5c19bb1f099d696d2fb\",\"source_name\":\"Fortune\",\"source_url\":\"https:\\\\/\\\\/fortune.com\",\"source_domain\":\"fortune.com\"},{\"article_url\":\"https:\\\\/\\\\/cointelegraph.com\\\\/news\\\\/podcast-dmitry-buterin-like-father-like-son\",\"title\":\"Podcast: Dmitry Buterin - Like Father, Like Son - CoinTelegraph\",\"description\":\"Podcast: Dmitry Buterin - Like Father, Like Son  CoinTelegraph\",\"description_with_tag\":\"<a href=\\\\\"https:\\\\/\\\\/cointelegraph.com\\\\/news\\\\/podcast-dmitry-buterin-like-father-like-son\\\\\" target=\\\\\"_blank\\\\\">Podcast: Dmitry Buterin - Like Father, Like Son<\\\\/a>&nbsp;&nbsp;<font color=\\\\\"#6f6f6f\\\\\">CoinTelegraph<\\\\/font>\",\"published_datetime\":\"2017-01-01T08:00:00+00:00\",\"published_timestamp\":1483257600,\"image_url\":\"https:\\\\/\\\\/gnewsapi.net\\\\/redirect-news-image\\\\/9bfff6d81a89cba83853176565dfd7e7\",\"source_name\":\"CoinTelegraph\",\"source_url\":\"https:\\\\/\\\\/cointelegraph.com\",\"source_domain\":\"cointelegraph.com\"},{\"article_url\":\"https:\\\\/\\\\/fortune.com\\\\/2017\\\\/01\\\\/01\\\\/trump-doesnt-trust-computers\\\\/\",\"title\":\"Trump Says he Doesn\\\\u2019t Trust Computers as he Rings in 2017 - Fortune\",\"description\":\"Trump Says he Doesn\\\\u2019t Trust Computers as he Rings in 2017  Fortune\",\"description_with_tag\":\"<a href=\\\\\"https:\\\\/\\\\/fortune.com\\\\/2017\\\\/01\\\\/01\\\\/trump-doesnt-trust-computers\\\\/\\\\\" target=\\\\\"_blank\\\\\">Trump Says he Doesn\\\\u2019t Trust Computers as he Rings in 2017<\\\\/a>&nbsp;&nbsp;<font color=\\\\\"#6f6f6f\\\\\">Fortune<\\\\/font>\",\"published_datetime\":\"2017-01-01T08:00:00+00:00\",\"published_timestamp\":1483257600,\"image_url\":\"https:\\\\/\\\\/gnewsapi.net\\\\/redirect-news-image\\\\/eb2c48861c50ad9f401544fd2c2382a8\",\"source_name\":\"Fortune\",\"source_url\":\"https:\\\\/\\\\/fortune.com\",\"source_domain\":\"fortune.com\"},{\"article_url\":\"https:\\\\/\\\\/fortune.com\\\\/2017\\\\/01\\\\/01\\\\/native-american-rights-dams\\\\/\",\"title\":\"Shielded Native American Sites Thrust into Debate Over Dams - Fortune\",\"description\":\"Shielded Native American Sites Thrust into Debate Over Dams  Fortune\",\"description_with_tag\":\"<a href=\\\\\"https:\\\\/\\\\/fortune.com\\\\/2017\\\\/01\\\\/01\\\\/native-american-rights-dams\\\\/\\\\\" target=\\\\\"_blank\\\\\">Shielded Native American Sites Thrust into Debate Over Dams<\\\\/a>&nbsp;&nbsp;<font color=\\\\\"#6f6f6f\\\\\">Fortune<\\\\/font>\",\"published_datetime\":\"2017-01-01T08:00:00+00:00\",\"published_timestamp\":1483257600,\"image_url\":\"https:\\\\/\\\\/gnewsapi.net\\\\/redirect-news-image\\\\/b2bdcb0832c2c3a4376d56cf8dd37c1d\",\"source_name\":\"Fortune\",\"source_url\":\"https:\\\\/\\\\/fortune.com\",\"source_domain\":\"fortune.com\"},{\"article_url\":\"https:\\\\/\\\\/finance.yahoo.com\\\\/news\\\\/blue-crush-cast-looked-peak-190736711.html\",\"title\":\"The \\\\u201cBlue Crush\\\\u201d cast looked PEAK 2000s at the movie premiere - Yahoo Finance\",\"description\":\"The \\\\u201cBlue Crush\\\\u201d cast looked PEAK 2000s at the movie premiere  Yahoo Finance\",\"description_with_tag\":\"<a href=\\\\\"https:\\\\/\\\\/finance.yahoo.com\\\\/news\\\\/blue-crush-cast-looked-peak-190736711.html\\\\\" target=\\\\\"_blank\\\\\">The \\\\u201cBlue Crush\\\\u201d cast looked PEAK 2000s at the movie premiere<\\\\/a>&nbsp;&nbsp;<font color=\\\\\"#6f6f6f\\\\\">Yahoo Finance<\\\\/font>\",\"published_datetime\":\"2017-01-01T08:00:00+00:00\",\"published_timestamp\":1483257600,\"image_url\":\"https:\\\\/\\\\/gnewsapi.net\\\\/redirect-news-image\\\\/e65dbaea3f3a318b403bf280848903fc\",\"source_name\":\"Yahoo Finance\",\"source_url\":\"https:\\\\/\\\\/finance.yahoo.com\",\"source_domain\":\"finance.yahoo.com\"},{\"article_url\":\"https:\\\\/\\\\/scroll.in\\\\/article\\\\/825314\\\\/bharati-bhavan-library-chowk-allahabad-a-poem-by-arvind-krishna-mehrotra\",\"title\":\"\\'Bharati Bhavan Library, Chowk, Allahabad\\': A poem by Arvind Krishna Mehrotra - Scroll.in\",\"description\":\"\\'Bharati Bhavan Library, Chowk, Allahabad\\': A poem by Arvind Krishna Mehrotra  Scroll.in\",\"description_with_tag\":\"<a href=\\\\\"https:\\\\/\\\\/scroll.in\\\\/article\\\\/825314\\\\/bharati-bhavan-library-chowk-allahabad-a-poem-by-arvind-krishna-mehrotra\\\\\" target=\\\\\"_blank\\\\\">\\'Bharati Bhavan Library, Chowk, Allahabad\\': A poem by Arvind Krishna Mehrotra<\\\\/a>&nbsp;&nbsp;<font color=\\\\\"#6f6f6f\\\\\">Scroll.in<\\\\/font>\",\"published_datetime\":\"2017-01-01T08:00:00+00:00\",\"published_timestamp\":1483257600,\"image_url\":\"https:\\\\/\\\\/gnewsapi.net\\\\/redirect-news-image\\\\/30d450b992b9de4539fc75ce3a817ce5\",\"source_name\":\"Scroll.in\",\"source_url\":\"https:\\\\/\\\\/scroll.in\",\"source_domain\":\"scroll.in\"}]}'"
      ]
     },
     "execution_count": 13,
     "metadata": {},
     "output_type": "execute_result"
    }
   ],
   "source": [
    "# The GNews API url\n",
    "news_url = \"https://gnewsapi.net/api/search?\"\n",
    "\n",
    "search_term = \"crypto OR btc OR bitcoin OR ethereum\"\n",
    "#search_country = \"us OR uk OR hk OR ch\" # cannot combine countries\n",
    "search_country = \"us\"\n",
    "search_language = \"en\"\n",
    "search_start_date = \"2017-01-01\"\n",
    "search_end_date = \"2017-01-02\"\n",
    "\n",
    "# Build complete request url\n",
    "request_url = news_url+\"q=\"+search_term+\"&country=\"+search_country+\"&language=\"+search_language+\"&from=\"+search_start_date+\"&to=\"+search_end_date+\"&api_token=\"+api_key\n",
    "\n",
    "# Execute get request\n",
    "payload = {}\n",
    "headers= {}\n",
    "response = requests.request(\"GET\", request_url, headers = headers, data = payload)\n",
    "\n",
    "response.content"
   ]
  },
  {
   "cell_type": "code",
   "execution_count": null,
   "metadata": {},
   "outputs": [],
   "source": []
  },
  {
   "cell_type": "code",
   "execution_count": null,
   "metadata": {},
   "outputs": [],
   "source": []
  }
 ],
 "metadata": {
  "kernelspec": {
   "display_name": "Python 3",
   "language": "python",
   "name": "python3"
  },
  "language_info": {
   "codemirror_mode": {
    "name": "ipython",
    "version": 3
   },
   "file_extension": ".py",
   "mimetype": "text/x-python",
   "name": "python",
   "nbconvert_exporter": "python",
   "pygments_lexer": "ipython3",
   "version": "3.7.9"
  }
 },
 "nbformat": 4,
 "nbformat_minor": 4
}
