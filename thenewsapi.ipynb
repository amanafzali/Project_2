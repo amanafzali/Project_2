{
 "cells": [
  {
   "cell_type": "code",
   "execution_count": 9,
   "metadata": {},
   "outputs": [],
   "source": [
    "# Initial imports to get show started\n",
    "import os\n",
    "from dotenv import load_dotenv\n",
    "#import http.client, urllib.parse\n",
    "import requests"
   ]
  },
  {
   "cell_type": "code",
   "execution_count": 10,
   "metadata": {},
   "outputs": [
    {
     "data": {
      "text/plain": [
       "str"
      ]
     },
     "execution_count": 10,
     "metadata": {},
     "output_type": "execute_result"
    }
   ],
   "source": [
    "# Grab the key stored in .env and verify its a valid string\n",
    "load_dotenv()\n",
    "api_key = os.getenv(\"THENEWS_API_KEY\")\n",
    "type(api_key)"
   ]
  },
  {
   "cell_type": "code",
   "execution_count": 17,
   "metadata": {},
   "outputs": [],
   "source": [
    "## The News API url for top 5 stories\n",
    "#top_news_url = \"https://api.thenewsapi.com/v1/news/top?api_token=\"\n",
    "#\n",
    "#search_terms = \"crypto|crypto-currency|BTC|bitcoin|ETH|ethereum|digital currency\"\n",
    "#search_countries = \"us,ca,gb,hk,jp,ch\"\n",
    "#search_categories = \"general,business,tech,politics\"\n",
    "#search_date = \"2021-01-11\"\n",
    "#\n",
    "## Build complete request url\n",
    "#request_url = top_news_url+api_key+\"&search=\"+search_terms+\"&locale=\"+search_countries+\"&categories=\"+search_categories+\"&published_on=\"+search_date\n",
    "#\n",
    "## Execute get request\n",
    "#response_data = requests.get(request_url)\n",
    "#\n",
    "#response_data.content"
   ]
  },
  {
   "cell_type": "code",
   "execution_count": 21,
   "metadata": {},
   "outputs": [
    {
     "data": {
      "text/plain": [
       "b'{\"meta\":{\"found\":0,\"returned\":0,\"limit\":5,\"page\":1},\"data\":[]}'"
      ]
     },
     "execution_count": 21,
     "metadata": {},
     "output_type": "execute_result"
    }
   ],
   "source": [
    "# The News API url for all stories\n",
    "all_news_url = \"https://api.thenewsapi.com/v1/news/all?api_token=\"\n",
    "\n",
    "#search_terms = \"crypto|crypto-currency|BTC|bitcoin|ETH|ethereum|digital currency\"\n",
    "search_countries = \"us,ca,gb,hk,jp,ch\"\n",
    "search_categories = \"general,business,tech,politics\"\n",
    "search_date = \"2020-01-11\"\n",
    "\n",
    "# Build complete request url\n",
    "request_url = all_news_url+api_key+\"&locale=\"+search_countries+\"&categories=\"+search_categories+\"&published_on=\"+search_date\n",
    "\n",
    "# Execute get request\n",
    "response_data = requests.get(request_url)\n",
    "\n",
    "response_data.content"
   ]
  },
  {
   "cell_type": "code",
   "execution_count": null,
   "metadata": {},
   "outputs": [],
   "source": []
  }
 ],
 "metadata": {
  "kernelspec": {
   "display_name": "Python 3",
   "language": "python",
   "name": "python3"
  },
  "language_info": {
   "codemirror_mode": {
    "name": "ipython",
    "version": 3
   },
   "file_extension": ".py",
   "mimetype": "text/x-python",
   "name": "python",
   "nbconvert_exporter": "python",
   "pygments_lexer": "ipython3",
   "version": "3.7.9"
  }
 },
 "nbformat": 4,
 "nbformat_minor": 4
}
